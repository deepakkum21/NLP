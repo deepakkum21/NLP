{
 "cells": [
  {
   "cell_type": "markdown",
   "metadata": {},
   "source": [
    "# Stop words with NLTK"
   ]
  },
  {
   "cell_type": "code",
   "execution_count": 1,
   "metadata": {},
   "outputs": [],
   "source": [
    "from nltk.corpus import stopwords"
   ]
  },
  {
   "cell_type": "code",
   "execution_count": 3,
   "metadata": {},
   "outputs": [
    {
     "name": "stdout",
     "output_type": "stream",
     "text": [
      "{\"don't\", 'again', \"hadn't\", 'such', 'hasn', 'their', 'hadn', 'up', 'haven', 'then', 'yourselves', 'does', 'why', 'a', 'who', 'my', 'an', \"it's\", 'hers', 'over', 'did', 'once', 'him', 'having', 'what', \"isn't\", 're', 'couldn', 'other', 'ours', 'were', 'if', \"mustn't\", 'we', 'into', 'shouldn', 'theirs', 'than', 'between', 'she', 'wouldn', 'your', 'so', 'it', 'as', 'them', 'same', \"doesn't\", 'has', 'being', 'i', 'or', 'there', 'after', 'm', 'whom', \"you're\", 'shan', 'should', 'won', 'those', 'during', 'is', 'where', 'too', 'and', 'both', \"hasn't\", 'aren', 'here', 'about', \"haven't\", 'o', 'yours', \"couldn't\", 'itself', 'you', \"she's\", 's', 'mightn', 'isn', 'to', 'above', 'until', 'himself', 'will', 'ain', 'that', 'at', 'further', 'because', 'y', 'doesn', 'more', 'not', 'now', 'myself', 'from', 'under', 'for', 'be', \"needn't\", 'have', 'just', 'been', 'out', 'with', 'nor', \"wouldn't\", 'this', \"won't\", 'but', 'no', 'ourselves', 'mustn', \"mightn't\", 'wasn', 'of', \"that'll\", 'on', 'his', 'own', 'most', 't', 'he', 'd', 'when', 'very', \"shouldn't\", 'by', 'yourself', 'down', 'do', 'll', 'which', 'off', 'was', \"aren't\", 'needn', 'some', 'through', 'me', 'weren', 'themselves', 'can', \"you'd\", 'ma', 'all', 'how', 'its', 'below', 'few', 've', 'each', 'don', 'her', 'these', 'while', 'only', \"didn't\", 'any', \"shan't\", 'against', 'they', \"should've\", 'our', \"you've\", 'am', 'doing', 'in', 'are', \"wasn't\", \"you'll\", 'before', 'didn', 'the', \"weren't\", 'had', 'herself'}\n"
     ]
    }
   ],
   "source": [
    "# stopwords\n",
    "stop_words = set(stopwords.words('english'))\n",
    "print(stop_words)"
   ]
  },
  {
   "cell_type": "code",
   "execution_count": 6,
   "metadata": {},
   "outputs": [
    {
     "name": "stdout",
     "output_type": "stream",
     "text": [
      "Tokenize_words\n",
      "['This', 'is', 'a', 'sample', 'sentence', ',', 'showing', 'off', 'the', 'stop', 'words', 'filtration', '.']\n",
      "Filtred sentence after tokenizing and removing stop words \n",
      "['This', 'sample', 'sentence', ',', 'showing', 'stop', 'words', 'filtration', '.']\n"
     ]
    }
   ],
   "source": [
    "from nltk.corpus import stopwords\n",
    "from nltk.tokenize import word_tokenize\n",
    "\n",
    "example_sent = \"This is a sample sentence, showing off the stop words filtration.\"\n",
    "\n",
    "stop_words = set(stopwords.words('english'))\n",
    "\n",
    "word_tokens = word_tokenize(example_sent)\n",
    "print('Tokenize_words')\n",
    "print(word_tokens)\n",
    "\n",
    "filtered_sentence = [w for w in word_tokens if not w in stop_words]\n",
    "\n",
    "filtered_sentence = []\n",
    "\n",
    "for w in word_tokens:\n",
    "    if w not in stop_words:\n",
    "        filtered_sentence.append(w)\n",
    "\n",
    "print('Filtred sentence after tokenizing and removing stop words ')\n",
    "print(filtered_sentence)"
   ]
  },
  {
   "cell_type": "code",
   "execution_count": null,
   "metadata": {},
   "outputs": [],
   "source": []
  }
 ],
 "metadata": {
  "kernelspec": {
   "display_name": "Python 3",
   "language": "python",
   "name": "python3"
  },
  "language_info": {
   "codemirror_mode": {
    "name": "ipython",
    "version": 3
   },
   "file_extension": ".py",
   "mimetype": "text/x-python",
   "name": "python",
   "nbconvert_exporter": "python",
   "pygments_lexer": "ipython3",
   "version": "3.7.7"
  }
 },
 "nbformat": 4,
 "nbformat_minor": 4
}
